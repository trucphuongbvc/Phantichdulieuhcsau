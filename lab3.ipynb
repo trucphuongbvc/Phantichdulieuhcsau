{
  "nbformat": 4,
  "nbformat_minor": 0,
  "metadata": {
    "colab": {
      "name": "lab3.ipynb",
      "provenance": [],
      "authorship_tag": "ABX9TyOYenp8VkYcEN4fGmReGfNN",
      "include_colab_link": true
    },
    "kernelspec": {
      "name": "python3",
      "display_name": "Python 3"
    },
    "language_info": {
      "name": "python"
    }
  },
  "cells": [
    {
      "cell_type": "markdown",
      "metadata": {
        "id": "view-in-github",
        "colab_type": "text"
      },
      "source": [
        "<a href=\"https://colab.research.google.com/github/trucphuongbvc/Phantichdulieuhcsau/blob/main/lab3.ipynb\" target=\"_parent\"><img src=\"https://colab.research.google.com/assets/colab-badge.svg\" alt=\"Open In Colab\"/></a>"
      ]
    },
    {
      "cell_type": "code",
      "metadata": {
        "colab": {
          "base_uri": "https://localhost:8080/",
          "height": 206
        },
        "id": "MK3mlC2H_Zcc",
        "outputId": "0c8977cc-fd6d-45fc-8a99-27554bdb869e"
      },
      "source": [
        "import pandas as pd\n",
        "df=pd.read_csv('https://raw.githubusercontent.com/huynhhoc/DataAnalystDeepLearning/main/Data/patient_heart_rate.csv')\n",
        "df.head()"
      ],
      "execution_count": 1,
      "outputs": [
        {
          "output_type": "execute_result",
          "data": {
            "text/html": [
              "<div>\n",
              "<style scoped>\n",
              "    .dataframe tbody tr th:only-of-type {\n",
              "        vertical-align: middle;\n",
              "    }\n",
              "\n",
              "    .dataframe tbody tr th {\n",
              "        vertical-align: top;\n",
              "    }\n",
              "\n",
              "    .dataframe thead th {\n",
              "        text-align: right;\n",
              "    }\n",
              "</style>\n",
              "<table border=\"1\" class=\"dataframe\">\n",
              "  <thead>\n",
              "    <tr style=\"text-align: right;\">\n",
              "      <th></th>\n",
              "      <th>1</th>\n",
              "      <th>Mickéy Mousé</th>\n",
              "      <th>56</th>\n",
              "      <th>70kgs</th>\n",
              "      <th>72</th>\n",
              "      <th>69</th>\n",
              "      <th>71</th>\n",
              "      <th>-</th>\n",
              "      <th>-.1</th>\n",
              "      <th>-.2</th>\n",
              "    </tr>\n",
              "  </thead>\n",
              "  <tbody>\n",
              "    <tr>\n",
              "      <th>0</th>\n",
              "      <td>2.0</td>\n",
              "      <td>Donald Duck</td>\n",
              "      <td>34.0</td>\n",
              "      <td>154.89lbs</td>\n",
              "      <td>-</td>\n",
              "      <td>-</td>\n",
              "      <td>-</td>\n",
              "      <td>85</td>\n",
              "      <td>84</td>\n",
              "      <td>76</td>\n",
              "    </tr>\n",
              "    <tr>\n",
              "      <th>1</th>\n",
              "      <td>3.0</td>\n",
              "      <td>Mini Mouse</td>\n",
              "      <td>16.0</td>\n",
              "      <td>NaN</td>\n",
              "      <td>-</td>\n",
              "      <td>-</td>\n",
              "      <td>-</td>\n",
              "      <td>65</td>\n",
              "      <td>69</td>\n",
              "      <td>72</td>\n",
              "    </tr>\n",
              "    <tr>\n",
              "      <th>2</th>\n",
              "      <td>4.0</td>\n",
              "      <td>Scrooge McDuck</td>\n",
              "      <td>NaN</td>\n",
              "      <td>78kgs</td>\n",
              "      <td>78</td>\n",
              "      <td>79</td>\n",
              "      <td>72</td>\n",
              "      <td>-</td>\n",
              "      <td>-</td>\n",
              "      <td>-</td>\n",
              "    </tr>\n",
              "    <tr>\n",
              "      <th>3</th>\n",
              "      <td>5.0</td>\n",
              "      <td>Pink Panther</td>\n",
              "      <td>54.0</td>\n",
              "      <td>198.658lbs</td>\n",
              "      <td>-</td>\n",
              "      <td>-</td>\n",
              "      <td>-</td>\n",
              "      <td>69</td>\n",
              "      <td>NaN</td>\n",
              "      <td>75</td>\n",
              "    </tr>\n",
              "    <tr>\n",
              "      <th>4</th>\n",
              "      <td>6.0</td>\n",
              "      <td>Huey McDuck</td>\n",
              "      <td>52.0</td>\n",
              "      <td>189lbs</td>\n",
              "      <td>-</td>\n",
              "      <td>-</td>\n",
              "      <td>-</td>\n",
              "      <td>68</td>\n",
              "      <td>75</td>\n",
              "      <td>72</td>\n",
              "    </tr>\n",
              "  </tbody>\n",
              "</table>\n",
              "</div>"
            ],
            "text/plain": [
              "     1    Mickéy Mousé    56       70kgs  72  69  71   -  -.1 -.2\n",
              "0  2.0     Donald Duck  34.0   154.89lbs   -   -   -  85   84  76\n",
              "1  3.0      Mini Mouse  16.0         NaN   -   -   -  65   69  72\n",
              "2  4.0  Scrooge McDuck   NaN       78kgs  78  79  72   -    -   -\n",
              "3  5.0    Pink Panther  54.0  198.658lbs   -   -   -  69  NaN  75\n",
              "4  6.0     Huey McDuck  52.0      189lbs   -   -   -  68   75  72"
            ]
          },
          "metadata": {},
          "execution_count": 1
        }
      ]
    },
    {
      "cell_type": "code",
      "metadata": {
        "colab": {
          "base_uri": "https://localhost:8080/",
          "height": 238
        },
        "id": "limA1onw_nZN",
        "outputId": "d48ece4f-2426-442a-e071-ea9b26ca3572"
      },
      "source": [
        "df=pd.read_csv('https://raw.githubusercontent.com/huynhhoc/DataAnalystDeepLearning/main/Data/patient_heart_rate.csv',names=['ID','Name','Age','Weight','m0006','m0612','m1218','f006','f0612','f1218'])\n",
        "df.head(6)"
      ],
      "execution_count": 2,
      "outputs": [
        {
          "output_type": "execute_result",
          "data": {
            "text/html": [
              "<div>\n",
              "<style scoped>\n",
              "    .dataframe tbody tr th:only-of-type {\n",
              "        vertical-align: middle;\n",
              "    }\n",
              "\n",
              "    .dataframe tbody tr th {\n",
              "        vertical-align: top;\n",
              "    }\n",
              "\n",
              "    .dataframe thead th {\n",
              "        text-align: right;\n",
              "    }\n",
              "</style>\n",
              "<table border=\"1\" class=\"dataframe\">\n",
              "  <thead>\n",
              "    <tr style=\"text-align: right;\">\n",
              "      <th></th>\n",
              "      <th>ID</th>\n",
              "      <th>Name</th>\n",
              "      <th>Age</th>\n",
              "      <th>Weight</th>\n",
              "      <th>m0006</th>\n",
              "      <th>m0612</th>\n",
              "      <th>m1218</th>\n",
              "      <th>f006</th>\n",
              "      <th>f0612</th>\n",
              "      <th>f1218</th>\n",
              "    </tr>\n",
              "  </thead>\n",
              "  <tbody>\n",
              "    <tr>\n",
              "      <th>0</th>\n",
              "      <td>1.0</td>\n",
              "      <td>Mickéy Mousé</td>\n",
              "      <td>56.0</td>\n",
              "      <td>70kgs</td>\n",
              "      <td>72</td>\n",
              "      <td>69</td>\n",
              "      <td>71</td>\n",
              "      <td>-</td>\n",
              "      <td>-</td>\n",
              "      <td>-</td>\n",
              "    </tr>\n",
              "    <tr>\n",
              "      <th>1</th>\n",
              "      <td>2.0</td>\n",
              "      <td>Donald Duck</td>\n",
              "      <td>34.0</td>\n",
              "      <td>154.89lbs</td>\n",
              "      <td>-</td>\n",
              "      <td>-</td>\n",
              "      <td>-</td>\n",
              "      <td>85</td>\n",
              "      <td>84</td>\n",
              "      <td>76</td>\n",
              "    </tr>\n",
              "    <tr>\n",
              "      <th>2</th>\n",
              "      <td>3.0</td>\n",
              "      <td>Mini Mouse</td>\n",
              "      <td>16.0</td>\n",
              "      <td>NaN</td>\n",
              "      <td>-</td>\n",
              "      <td>-</td>\n",
              "      <td>-</td>\n",
              "      <td>65</td>\n",
              "      <td>69</td>\n",
              "      <td>72</td>\n",
              "    </tr>\n",
              "    <tr>\n",
              "      <th>3</th>\n",
              "      <td>4.0</td>\n",
              "      <td>Scrooge McDuck</td>\n",
              "      <td>NaN</td>\n",
              "      <td>78kgs</td>\n",
              "      <td>78</td>\n",
              "      <td>79</td>\n",
              "      <td>72</td>\n",
              "      <td>-</td>\n",
              "      <td>-</td>\n",
              "      <td>-</td>\n",
              "    </tr>\n",
              "    <tr>\n",
              "      <th>4</th>\n",
              "      <td>5.0</td>\n",
              "      <td>Pink Panther</td>\n",
              "      <td>54.0</td>\n",
              "      <td>198.658lbs</td>\n",
              "      <td>-</td>\n",
              "      <td>-</td>\n",
              "      <td>-</td>\n",
              "      <td>69</td>\n",
              "      <td>NaN</td>\n",
              "      <td>75</td>\n",
              "    </tr>\n",
              "    <tr>\n",
              "      <th>5</th>\n",
              "      <td>6.0</td>\n",
              "      <td>Huey McDuck</td>\n",
              "      <td>52.0</td>\n",
              "      <td>189lbs</td>\n",
              "      <td>-</td>\n",
              "      <td>-</td>\n",
              "      <td>-</td>\n",
              "      <td>68</td>\n",
              "      <td>75</td>\n",
              "      <td>72</td>\n",
              "    </tr>\n",
              "  </tbody>\n",
              "</table>\n",
              "</div>"
            ],
            "text/plain": [
              "    ID            Name   Age      Weight m0006 m0612 m1218 f006 f0612 f1218\n",
              "0  1.0    Mickéy Mousé  56.0       70kgs    72    69    71    -     -     -\n",
              "1  2.0     Donald Duck  34.0   154.89lbs     -     -     -   85    84    76\n",
              "2  3.0      Mini Mouse  16.0         NaN     -     -     -   65    69    72\n",
              "3  4.0  Scrooge McDuck   NaN       78kgs    78    79    72    -     -     -\n",
              "4  5.0    Pink Panther  54.0  198.658lbs     -     -     -   69   NaN    75\n",
              "5  6.0     Huey McDuck  52.0      189lbs     -     -     -   68    75    72"
            ]
          },
          "metadata": {},
          "execution_count": 2
        }
      ]
    },
    {
      "cell_type": "code",
      "metadata": {
        "colab": {
          "base_uri": "https://localhost:8080/"
        },
        "id": "Gs_yOmTm_rGC",
        "outputId": "777b1017-ca60-43a6-cf29-977bb3d1829e"
      },
      "source": [
        "df[['Firstname','Lastname']] = df['Name'].str.split(expand = True)\n",
        "df = df.drop('Name',axis = 1)\n",
        "print(df)"
      ],
      "execution_count": 3,
      "outputs": [
        {
          "output_type": "stream",
          "name": "stdout",
          "text": [
            "      ID   Age      Weight m0006 m0612  ... f006 f0612 f1218 Firstname Lastname\n",
            "0    1.0  56.0       70kgs    72    69  ...    -     -     -    Mickéy    Mousé\n",
            "1    2.0  34.0   154.89lbs     -     -  ...   85    84    76    Donald     Duck\n",
            "2    3.0  16.0         NaN     -     -  ...   65    69    72      Mini    Mouse\n",
            "3    4.0   NaN       78kgs    78    79  ...    -     -     -   Scrooge   McDuck\n",
            "4    5.0  54.0  198.658lbs     -     -  ...   69   NaN    75      Pink  Panther\n",
            "5    6.0  52.0      189lbs     -     -  ...   68    75    72      Huey   McDuck\n",
            "6    7.0  19.0       56kgs     -     -  ...   71    78    75     Dewey   McDuck\n",
            "7    8.0  32.0       78kgs    78    76  ...    -     -     -    Scööpy      Doo\n",
            "8    NaN   NaN         NaN   NaN   NaN  ...  NaN   NaN   NaN       NaN      NaN\n",
            "9    NaN   NaN         NaN   NaN   NaN  ...  NaN   NaN   NaN       NaN      NaN\n",
            "10   9.0  52.0      189lbs     -     -  ...   68    75    72      Huey   McDuck\n",
            "11  10.0  12.0       45kgs     -     -  ...   92    95    87     Louie   McDuck\n",
            "12  11.0   NaN       60kgs    78    75  ...    -     -     -     Henry      Nam\n",
            "13  12.0  34.0         NaN    65    67  ...    -     -     -    Michel     Long\n",
            "14  13.0   NaN         NaN     -     -  ...   68    72    70      Tana    Ricky\n",
            "15  14.0   NaN         NaN   NaN   NaN  ...  NaN   NaN   NaN  UniLever     None\n",
            "16  15.0  52.0      180lbs     -     -  ...   68    75    72       NaN      NaN\n",
            "\n",
            "[17 rows x 11 columns]\n"
          ]
        }
      ]
    },
    {
      "cell_type": "code",
      "metadata": {
        "colab": {
          "base_uri": "https://localhost:8080/"
        },
        "id": "8iUzVKnB_uZi",
        "outputId": "1ab2c254-2c76-4994-d896-d795345803c4"
      },
      "source": [
        "weight = df['Weight']\n",
        "\n",
        "for i in range (0,len(weight)):\n",
        "    x = str(weight[i])\n",
        "    if \"lbs\" in x[-3:]:\n",
        "        x = x[:-3:]\n",
        "        float_x = float(x)\n",
        "        y = int(float_x/2.2)\n",
        "        y = str(y)+\"kgs\"\n",
        "        weight[i] = y\n",
        "print(df)\n",
        "\n",
        "df.dropna(how = \"all\",inplace = True)\n",
        "print(df)"
      ],
      "execution_count": 4,
      "outputs": [
        {
          "output_type": "stream",
          "name": "stdout",
          "text": [
            "      ID   Age Weight m0006 m0612 m1218 f006 f0612 f1218 Firstname Lastname\n",
            "0    1.0  56.0  70kgs    72    69    71    -     -     -    Mickéy    Mousé\n",
            "1    2.0  34.0  70kgs     -     -     -   85    84    76    Donald     Duck\n",
            "2    3.0  16.0    NaN     -     -     -   65    69    72      Mini    Mouse\n",
            "3    4.0   NaN  78kgs    78    79    72    -     -     -   Scrooge   McDuck\n",
            "4    5.0  54.0  90kgs     -     -     -   69   NaN    75      Pink  Panther\n",
            "5    6.0  52.0  85kgs     -     -     -   68    75    72      Huey   McDuck\n",
            "6    7.0  19.0  56kgs     -     -     -   71    78    75     Dewey   McDuck\n",
            "7    8.0  32.0  78kgs    78    76    75    -     -     -    Scööpy      Doo\n",
            "8    NaN   NaN    NaN   NaN   NaN   NaN  NaN   NaN   NaN       NaN      NaN\n",
            "9    NaN   NaN    NaN   NaN   NaN   NaN  NaN   NaN   NaN       NaN      NaN\n",
            "10   9.0  52.0  85kgs     -     -     -   68    75    72      Huey   McDuck\n",
            "11  10.0  12.0  45kgs     -     -     -   92    95    87     Louie   McDuck\n",
            "12  11.0   NaN  60kgs    78    75    72    -     -     -     Henry      Nam\n",
            "13  12.0  34.0    NaN    65    67    55    -     -     -    Michel     Long\n",
            "14  13.0   NaN    NaN     -     -     -   68    72    70      Tana    Ricky\n",
            "15  14.0   NaN    NaN   NaN   NaN   NaN  NaN   NaN   NaN  UniLever     None\n",
            "16  15.0  52.0  81kgs     -     -     -   68    75    72       NaN      NaN\n",
            "      ID   Age Weight m0006 m0612 m1218 f006 f0612 f1218 Firstname Lastname\n",
            "0    1.0  56.0  70kgs    72    69    71    -     -     -    Mickéy    Mousé\n",
            "1    2.0  34.0  70kgs     -     -     -   85    84    76    Donald     Duck\n",
            "2    3.0  16.0    NaN     -     -     -   65    69    72      Mini    Mouse\n",
            "3    4.0   NaN  78kgs    78    79    72    -     -     -   Scrooge   McDuck\n",
            "4    5.0  54.0  90kgs     -     -     -   69   NaN    75      Pink  Panther\n",
            "5    6.0  52.0  85kgs     -     -     -   68    75    72      Huey   McDuck\n",
            "6    7.0  19.0  56kgs     -     -     -   71    78    75     Dewey   McDuck\n",
            "7    8.0  32.0  78kgs    78    76    75    -     -     -    Scööpy      Doo\n",
            "10   9.0  52.0  85kgs     -     -     -   68    75    72      Huey   McDuck\n",
            "11  10.0  12.0  45kgs     -     -     -   92    95    87     Louie   McDuck\n",
            "12  11.0   NaN  60kgs    78    75    72    -     -     -     Henry      Nam\n",
            "13  12.0  34.0    NaN    65    67    55    -     -     -    Michel     Long\n",
            "14  13.0   NaN    NaN     -     -     -   68    72    70      Tana    Ricky\n",
            "15  14.0   NaN    NaN   NaN   NaN   NaN  NaN   NaN   NaN  UniLever     None\n",
            "16  15.0  52.0  81kgs     -     -     -   68    75    72       NaN      NaN\n"
          ]
        },
        {
          "output_type": "stream",
          "name": "stderr",
          "text": [
            "/usr/local/lib/python3.7/dist-packages/ipykernel_launcher.py:10: SettingWithCopyWarning: \n",
            "A value is trying to be set on a copy of a slice from a DataFrame\n",
            "\n",
            "See the caveats in the documentation: https://pandas.pydata.org/pandas-docs/stable/user_guide/indexing.html#returning-a-view-versus-a-copy\n",
            "  # Remove the CWD from sys.path while we load stuff.\n"
          ]
        }
      ]
    },
    {
      "cell_type": "code",
      "metadata": {
        "colab": {
          "base_uri": "https://localhost:8080/"
        },
        "id": "Ze71t-Rj_xmZ",
        "outputId": "0185512b-d9d1-4b4c-e7f0-6c5c772631ec"
      },
      "source": [
        "df = df.drop_duplicates(subset = ['Firstname','Lastname','Age','Weight'])\n",
        "print(df)"
      ],
      "execution_count": 5,
      "outputs": [
        {
          "output_type": "stream",
          "name": "stdout",
          "text": [
            "      ID   Age Weight m0006 m0612 m1218 f006 f0612 f1218 Firstname Lastname\n",
            "0    1.0  56.0  70kgs    72    69    71    -     -     -    Mickéy    Mousé\n",
            "1    2.0  34.0  70kgs     -     -     -   85    84    76    Donald     Duck\n",
            "2    3.0  16.0    NaN     -     -     -   65    69    72      Mini    Mouse\n",
            "3    4.0   NaN  78kgs    78    79    72    -     -     -   Scrooge   McDuck\n",
            "4    5.0  54.0  90kgs     -     -     -   69   NaN    75      Pink  Panther\n",
            "5    6.0  52.0  85kgs     -     -     -   68    75    72      Huey   McDuck\n",
            "6    7.0  19.0  56kgs     -     -     -   71    78    75     Dewey   McDuck\n",
            "7    8.0  32.0  78kgs    78    76    75    -     -     -    Scööpy      Doo\n",
            "11  10.0  12.0  45kgs     -     -     -   92    95    87     Louie   McDuck\n",
            "12  11.0   NaN  60kgs    78    75    72    -     -     -     Henry      Nam\n",
            "13  12.0  34.0    NaN    65    67    55    -     -     -    Michel     Long\n",
            "14  13.0   NaN    NaN     -     -     -   68    72    70      Tana    Ricky\n",
            "15  14.0   NaN    NaN   NaN   NaN   NaN  NaN   NaN   NaN  UniLever     None\n",
            "16  15.0  52.0  81kgs     -     -     -   68    75    72       NaN      NaN\n"
          ]
        }
      ]
    },
    {
      "cell_type": "code",
      "metadata": {
        "colab": {
          "base_uri": "https://localhost:8080/"
        },
        "id": "M9nFqTdW_0O7",
        "outputId": "01747678-aefc-417e-8529-ed61399ad30c"
      },
      "source": [
        "df.Firstname.replace({r'[^\\x00-\\x7F]+':''},regex =True , inplace = True)\n",
        "df.Lastname.replace({r'[^\\x00-\\x7F]+':''},regex =True , inplace = True)\n",
        "print(df)"
      ],
      "execution_count": 6,
      "outputs": [
        {
          "output_type": "stream",
          "name": "stdout",
          "text": [
            "      ID   Age Weight m0006 m0612 m1218 f006 f0612 f1218 Firstname Lastname\n",
            "0    1.0  56.0  70kgs    72    69    71    -     -     -     Micky     Mous\n",
            "1    2.0  34.0  70kgs     -     -     -   85    84    76    Donald     Duck\n",
            "2    3.0  16.0    NaN     -     -     -   65    69    72      Mini    Mouse\n",
            "3    4.0   NaN  78kgs    78    79    72    -     -     -   Scrooge   McDuck\n",
            "4    5.0  54.0  90kgs     -     -     -   69   NaN    75      Pink  Panther\n",
            "5    6.0  52.0  85kgs     -     -     -   68    75    72      Huey   McDuck\n",
            "6    7.0  19.0  56kgs     -     -     -   71    78    75     Dewey   McDuck\n",
            "7    8.0  32.0  78kgs    78    76    75    -     -     -      Scpy      Doo\n",
            "11  10.0  12.0  45kgs     -     -     -   92    95    87     Louie   McDuck\n",
            "12  11.0   NaN  60kgs    78    75    72    -     -     -     Henry      Nam\n",
            "13  12.0  34.0    NaN    65    67    55    -     -     -    Michel     Long\n",
            "14  13.0   NaN    NaN     -     -     -   68    72    70      Tana    Ricky\n",
            "15  14.0   NaN    NaN   NaN   NaN   NaN  NaN   NaN   NaN  UniLever     None\n",
            "16  15.0  52.0  81kgs     -     -     -   68    75    72       NaN      NaN\n"
          ]
        }
      ]
    },
    {
      "cell_type": "code",
      "metadata": {
        "id": "T9xuQXoZ_6si"
      },
      "source": [
        ""
      ],
      "execution_count": null,
      "outputs": []
    }
  ]
}