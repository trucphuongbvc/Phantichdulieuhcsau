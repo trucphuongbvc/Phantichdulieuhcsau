{
  "nbformat": 4,
  "nbformat_minor": 0,
  "metadata": {
    "colab": {
      "name": "lab5.ipynb",
      "provenance": [],
      "authorship_tag": "ABX9TyN0igQ8pAL8z6F9Ywsyt6ZQ",
      "include_colab_link": true
    },
    "kernelspec": {
      "name": "python3",
      "display_name": "Python 3"
    },
    "language_info": {
      "name": "python"
    }
  },
  "cells": [
    {
      "cell_type": "markdown",
      "metadata": {
        "id": "view-in-github",
        "colab_type": "text"
      },
      "source": [
        "<a href=\"https://colab.research.google.com/github/trucphuongbvc/Phantichdulieuhcsau/blob/main/lab5.ipynb\" target=\"_parent\"><img src=\"https://colab.research.google.com/assets/colab-badge.svg\" alt=\"Open In Colab\"/></a>"
      ]
    },
    {
      "cell_type": "code",
      "metadata": {
        "colab": {
          "base_uri": "https://localhost:8080/",
          "height": 424
        },
        "id": "tw5buRen60Ml",
        "outputId": "c243ec18-bb8a-4e0d-a201-55157615d1dd"
      },
      "source": [
        "import pandas as pd\n",
        "df = pd.read_csv(\"https://raw.githubusercontent.com/huynhhoc/DataAnalystDeepLearning/main/Data/babies.txt\",sep=\"\\s+\")\n",
        "df"
      ],
      "execution_count": 1,
      "outputs": [
        {
          "output_type": "execute_result",
          "data": {
            "text/html": [
              "<div>\n",
              "<style scoped>\n",
              "    .dataframe tbody tr th:only-of-type {\n",
              "        vertical-align: middle;\n",
              "    }\n",
              "\n",
              "    .dataframe tbody tr th {\n",
              "        vertical-align: top;\n",
              "    }\n",
              "\n",
              "    .dataframe thead th {\n",
              "        text-align: right;\n",
              "    }\n",
              "</style>\n",
              "<table border=\"1\" class=\"dataframe\">\n",
              "  <thead>\n",
              "    <tr style=\"text-align: right;\">\n",
              "      <th></th>\n",
              "      <th>bwt</th>\n",
              "      <th>smoke</th>\n",
              "    </tr>\n",
              "  </thead>\n",
              "  <tbody>\n",
              "    <tr>\n",
              "      <th>0</th>\n",
              "      <td>120</td>\n",
              "      <td>0</td>\n",
              "    </tr>\n",
              "    <tr>\n",
              "      <th>1</th>\n",
              "      <td>113</td>\n",
              "      <td>0</td>\n",
              "    </tr>\n",
              "    <tr>\n",
              "      <th>2</th>\n",
              "      <td>128</td>\n",
              "      <td>1</td>\n",
              "    </tr>\n",
              "    <tr>\n",
              "      <th>3</th>\n",
              "      <td>123</td>\n",
              "      <td>0</td>\n",
              "    </tr>\n",
              "    <tr>\n",
              "      <th>4</th>\n",
              "      <td>108</td>\n",
              "      <td>1</td>\n",
              "    </tr>\n",
              "    <tr>\n",
              "      <th>...</th>\n",
              "      <td>...</td>\n",
              "      <td>...</td>\n",
              "    </tr>\n",
              "    <tr>\n",
              "      <th>1231</th>\n",
              "      <td>113</td>\n",
              "      <td>0</td>\n",
              "    </tr>\n",
              "    <tr>\n",
              "      <th>1232</th>\n",
              "      <td>128</td>\n",
              "      <td>0</td>\n",
              "    </tr>\n",
              "    <tr>\n",
              "      <th>1233</th>\n",
              "      <td>130</td>\n",
              "      <td>1</td>\n",
              "    </tr>\n",
              "    <tr>\n",
              "      <th>1234</th>\n",
              "      <td>125</td>\n",
              "      <td>0</td>\n",
              "    </tr>\n",
              "    <tr>\n",
              "      <th>1235</th>\n",
              "      <td>117</td>\n",
              "      <td>0</td>\n",
              "    </tr>\n",
              "  </tbody>\n",
              "</table>\n",
              "<p>1236 rows × 2 columns</p>\n",
              "</div>"
            ],
            "text/plain": [
              "      bwt  smoke\n",
              "0     120      0\n",
              "1     113      0\n",
              "2     128      1\n",
              "3     123      0\n",
              "4     108      1\n",
              "...   ...    ...\n",
              "1231  113      0\n",
              "1232  128      0\n",
              "1233  130      1\n",
              "1234  125      0\n",
              "1235  117      0\n",
              "\n",
              "[1236 rows x 2 columns]"
            ]
          },
          "metadata": {},
          "execution_count": 1
        }
      ]
    },
    {
      "cell_type": "code",
      "metadata": {
        "id": "0xauTYNl6-R5"
      },
      "source": [
        "df_cohutthuoc = df[df['smoke'] == 1]\n",
        "df_khonghutthuoc = df[df['smoke'] == 0]"
      ],
      "execution_count": 4,
      "outputs": []
    },
    {
      "cell_type": "code",
      "metadata": {
        "colab": {
          "base_uri": "https://localhost:8080/",
          "height": 520
        },
        "id": "z3cuGWv27Gr6",
        "outputId": "9a2a54e0-f350-4c42-9ed9-064660138c9b"
      },
      "source": [
        "from scipy.stats import kurtosis\n",
        "from scipy.stats import skew\n",
        "import numpy as np\n",
        "d = {'TH1: Bà mẹ hút thuốc' : pd.Series([df_cohutthuoc['bwt'].count(),df_cohutthuoc['bwt'].min(),\n",
        "                        df_cohutthuoc['bwt'].max(),df_cohutthuoc['bwt'].mean(),\n",
        "                        df_cohutthuoc['bwt'].std(skipna=True),df_cohutthuoc['bwt'].var(skipna=True),\n",
        "                        df_cohutthuoc['bwt'].median(),df_cohutthuoc['bwt'].quantile(.0),\n",
        "                        df_cohutthuoc['bwt'].quantile(.25),df_cohutthuoc['bwt'].quantile(.5),\n",
        "                        df_cohutthuoc['bwt'].quantile(.75),df_cohutthuoc['bwt'].quantile(1),\n",
        "                        df_cohutthuoc['bwt'].quantile(.75)-df_cohutthuoc['bwt'].quantile(.25),\n",
        "                        df_cohutthuoc['bwt'].kurtosis()+3,df_cohutthuoc['bwt'].skew()],\n",
        "                       index=['Số lượng','Min','Max','Mean','Sd','Var','Median','Quantile 0%',\n",
        "                              'Quantile 25%','Quantile 50%','Quantile 75%','Quantile 100%','IQR',\n",
        "                              'Kurtosis','Skewness']),\n",
        "      'TH2: Bà mẹ không hút thuốc' : pd.Series([df_khonghutthuoc['bwt'].count(),df_khonghutthuoc['bwt'].min(),\n",
        "                        df_khonghutthuoc['bwt'].max(),df_khonghutthuoc['bwt'].mean(),\n",
        "                        df_khonghutthuoc['bwt'].std(skipna=True),df_khonghutthuoc['bwt'].var(skipna=True),\n",
        "                        df_khonghutthuoc['bwt'].median(),df_khonghutthuoc['bwt'].quantile(.0),\n",
        "                        df_khonghutthuoc['bwt'].quantile(.25),df_khonghutthuoc['bwt'].quantile(.5),\n",
        "                        df_khonghutthuoc['bwt'].quantile(.75),df_khonghutthuoc['bwt'].quantile(1),\n",
        "                        df_khonghutthuoc['bwt'].quantile(.75)-df_khonghutthuoc['bwt'].quantile(.25),\n",
        "                        df_khonghutthuoc['bwt'].kurtosis()+3,df_khonghutthuoc['bwt'].skew()],\n",
        "                       index=['Số lượng','Min','Max','Mean','Sd','Var','Median','Quantile 0%',\n",
        "                              'Quantile 25%','Quantile 50%','Quantile 75%','Quantile 100%','IQR',\n",
        "                              'Kurtosis','Skewness'])\n",
        "     }\n",
        "data = pd.DataFrame(d)\n",
        "data"
      ],
      "execution_count": 5,
      "outputs": [
        {
          "output_type": "execute_result",
          "data": {
            "text/html": [
              "<div>\n",
              "<style scoped>\n",
              "    .dataframe tbody tr th:only-of-type {\n",
              "        vertical-align: middle;\n",
              "    }\n",
              "\n",
              "    .dataframe tbody tr th {\n",
              "        vertical-align: top;\n",
              "    }\n",
              "\n",
              "    .dataframe thead th {\n",
              "        text-align: right;\n",
              "    }\n",
              "</style>\n",
              "<table border=\"1\" class=\"dataframe\">\n",
              "  <thead>\n",
              "    <tr style=\"text-align: right;\">\n",
              "      <th></th>\n",
              "      <th>TH1: Bà mẹ hút thuốc</th>\n",
              "      <th>TH2: Bà mẹ không hút thuốc</th>\n",
              "    </tr>\n",
              "  </thead>\n",
              "  <tbody>\n",
              "    <tr>\n",
              "      <th>Số lượng</th>\n",
              "      <td>484.000000</td>\n",
              "      <td>742.000000</td>\n",
              "    </tr>\n",
              "    <tr>\n",
              "      <th>Min</th>\n",
              "      <td>58.000000</td>\n",
              "      <td>55.000000</td>\n",
              "    </tr>\n",
              "    <tr>\n",
              "      <th>Max</th>\n",
              "      <td>163.000000</td>\n",
              "      <td>176.000000</td>\n",
              "    </tr>\n",
              "    <tr>\n",
              "      <th>Mean</th>\n",
              "      <td>114.109504</td>\n",
              "      <td>123.047170</td>\n",
              "    </tr>\n",
              "    <tr>\n",
              "      <th>Sd</th>\n",
              "      <td>18.098946</td>\n",
              "      <td>17.398689</td>\n",
              "    </tr>\n",
              "    <tr>\n",
              "      <th>Var</th>\n",
              "      <td>327.571835</td>\n",
              "      <td>302.714371</td>\n",
              "    </tr>\n",
              "    <tr>\n",
              "      <th>Median</th>\n",
              "      <td>115.000000</td>\n",
              "      <td>123.000000</td>\n",
              "    </tr>\n",
              "    <tr>\n",
              "      <th>Quantile 0%</th>\n",
              "      <td>58.000000</td>\n",
              "      <td>55.000000</td>\n",
              "    </tr>\n",
              "    <tr>\n",
              "      <th>Quantile 25%</th>\n",
              "      <td>102.000000</td>\n",
              "      <td>113.000000</td>\n",
              "    </tr>\n",
              "    <tr>\n",
              "      <th>Quantile 50%</th>\n",
              "      <td>115.000000</td>\n",
              "      <td>123.000000</td>\n",
              "    </tr>\n",
              "    <tr>\n",
              "      <th>Quantile 75%</th>\n",
              "      <td>126.000000</td>\n",
              "      <td>134.000000</td>\n",
              "    </tr>\n",
              "    <tr>\n",
              "      <th>Quantile 100%</th>\n",
              "      <td>163.000000</td>\n",
              "      <td>176.000000</td>\n",
              "    </tr>\n",
              "    <tr>\n",
              "      <th>IQR</th>\n",
              "      <td>24.000000</td>\n",
              "      <td>21.000000</td>\n",
              "    </tr>\n",
              "    <tr>\n",
              "      <th>Kurtosis</th>\n",
              "      <td>3.000408</td>\n",
              "      <td>4.052213</td>\n",
              "    </tr>\n",
              "    <tr>\n",
              "      <th>Skewness</th>\n",
              "      <td>-0.033700</td>\n",
              "      <td>-0.187363</td>\n",
              "    </tr>\n",
              "  </tbody>\n",
              "</table>\n",
              "</div>"
            ],
            "text/plain": [
              "               TH1: Bà mẹ hút thuốc  TH2: Bà mẹ không hút thuốc\n",
              "Số lượng                 484.000000                  742.000000\n",
              "Min                       58.000000                   55.000000\n",
              "Max                      163.000000                  176.000000\n",
              "Mean                     114.109504                  123.047170\n",
              "Sd                        18.098946                   17.398689\n",
              "Var                      327.571835                  302.714371\n",
              "Median                   115.000000                  123.000000\n",
              "Quantile 0%               58.000000                   55.000000\n",
              "Quantile 25%             102.000000                  113.000000\n",
              "Quantile 50%             115.000000                  123.000000\n",
              "Quantile 75%             126.000000                  134.000000\n",
              "Quantile 100%            163.000000                  176.000000\n",
              "IQR                       24.000000                   21.000000\n",
              "Kurtosis                   3.000408                    4.052213\n",
              "Skewness                  -0.033700                   -0.187363"
            ]
          },
          "metadata": {},
          "execution_count": 5
        }
      ]
    },
    {
      "cell_type": "code",
      "metadata": {
        "colab": {
          "base_uri": "https://localhost:8080/",
          "height": 175
        },
        "id": "sz8xdWbn7M5t",
        "outputId": "93f5219f-0b84-4e06-c284-a7c8b1b1ff97"
      },
      "source": [
        "# Sự khác biệt về tính biến động của dữ liệu được thể hiện qua bảng sau:\n",
        "data_1 = pd.DataFrame({\n",
        "    'TH1: Bà mẹ hút thuốc' : pd.Series([df_cohutthuoc['bwt'].std(skipna=True),df_cohutthuoc['bwt'].var(skipna=True),\n",
        "                                        df_cohutthuoc['bwt'].max()-df_cohutthuoc['bwt'].min(),\n",
        "                                        df_cohutthuoc['bwt'].quantile(.75)-df_cohutthuoc['bwt'].quantile(.25)],\n",
        "                                       index=['Sd','Var','Range','IQR']),\n",
        "    'TH2: Bà mẹ không hút thuốc' : pd.Series([df_khonghutthuoc['bwt'].std(skipna=True),df_khonghutthuoc['bwt'].var(skipna=True),\n",
        "                                        df_khonghutthuoc['bwt'].max()-df_khonghutthuoc['bwt'].min(),\n",
        "                                        df_khonghutthuoc['bwt'].quantile(.75)-df_khonghutthuoc['bwt'].quantile(.25)],\n",
        "                                       index=['Sd','Var','Range','IQR'])\n",
        "})\n",
        "data_1['Chênh lệch (TH2-TH1)'] = data_1['TH2: Bà mẹ không hút thuốc']-data_1['TH1: Bà mẹ hút thuốc']\n",
        "data_1"
      ],
      "execution_count": 6,
      "outputs": [
        {
          "output_type": "execute_result",
          "data": {
            "text/html": [
              "<div>\n",
              "<style scoped>\n",
              "    .dataframe tbody tr th:only-of-type {\n",
              "        vertical-align: middle;\n",
              "    }\n",
              "\n",
              "    .dataframe tbody tr th {\n",
              "        vertical-align: top;\n",
              "    }\n",
              "\n",
              "    .dataframe thead th {\n",
              "        text-align: right;\n",
              "    }\n",
              "</style>\n",
              "<table border=\"1\" class=\"dataframe\">\n",
              "  <thead>\n",
              "    <tr style=\"text-align: right;\">\n",
              "      <th></th>\n",
              "      <th>TH1: Bà mẹ hút thuốc</th>\n",
              "      <th>TH2: Bà mẹ không hút thuốc</th>\n",
              "      <th>Chênh lệch (TH2-TH1)</th>\n",
              "    </tr>\n",
              "  </thead>\n",
              "  <tbody>\n",
              "    <tr>\n",
              "      <th>Sd</th>\n",
              "      <td>18.098946</td>\n",
              "      <td>17.398689</td>\n",
              "      <td>-0.700257</td>\n",
              "    </tr>\n",
              "    <tr>\n",
              "      <th>Var</th>\n",
              "      <td>327.571835</td>\n",
              "      <td>302.714371</td>\n",
              "      <td>-24.857464</td>\n",
              "    </tr>\n",
              "    <tr>\n",
              "      <th>Range</th>\n",
              "      <td>105.000000</td>\n",
              "      <td>121.000000</td>\n",
              "      <td>16.000000</td>\n",
              "    </tr>\n",
              "    <tr>\n",
              "      <th>IQR</th>\n",
              "      <td>24.000000</td>\n",
              "      <td>21.000000</td>\n",
              "      <td>-3.000000</td>\n",
              "    </tr>\n",
              "  </tbody>\n",
              "</table>\n",
              "</div>"
            ],
            "text/plain": [
              "       TH1: Bà mẹ hút thuốc  TH2: Bà mẹ không hút thuốc  Chênh lệch (TH2-TH1)\n",
              "Sd                18.098946                   17.398689             -0.700257\n",
              "Var              327.571835                  302.714371            -24.857464\n",
              "Range            105.000000                  121.000000             16.000000\n",
              "IQR               24.000000                   21.000000             -3.000000"
            ]
          },
          "metadata": {},
          "execution_count": 6
        }
      ]
    },
    {
      "cell_type": "code",
      "metadata": {
        "colab": {
          "base_uri": "https://localhost:8080/",
          "height": 112
        },
        "id": "X4S0-sVb7SrU",
        "outputId": "8f8d3126-94f4-40ed-a81f-677308d35caf"
      },
      "source": [
        "# Sự khác biệt về hình dạng phân bố của dữ liệu: được thể hiện qua bảng sau:\n",
        "data_2 = pd.DataFrame({\n",
        "    'TH1: Bà mẹ hút thuốc' : pd.Series([df_cohutthuoc['bwt'].skew(),df_cohutthuoc['bwt'].kurtosis()+3],\n",
        "                                       index=['Skewness','Kurtosis']),\n",
        "    'TH2: Bà mẹ không hút thuốc' : pd.Series([df_khonghutthuoc['bwt'].skew(),df_khonghutthuoc['bwt'].kurtosis()+3],\n",
        "                                       index=['Skewness','Kurtosis'])\n",
        "})\n",
        "data_2['Chênh lệch (TH2-TH1)'] = data_2['TH2: Bà mẹ không hút thuốc']-data_2['TH1: Bà mẹ hút thuốc']\n",
        "data_2"
      ],
      "execution_count": 7,
      "outputs": [
        {
          "output_type": "execute_result",
          "data": {
            "text/html": [
              "<div>\n",
              "<style scoped>\n",
              "    .dataframe tbody tr th:only-of-type {\n",
              "        vertical-align: middle;\n",
              "    }\n",
              "\n",
              "    .dataframe tbody tr th {\n",
              "        vertical-align: top;\n",
              "    }\n",
              "\n",
              "    .dataframe thead th {\n",
              "        text-align: right;\n",
              "    }\n",
              "</style>\n",
              "<table border=\"1\" class=\"dataframe\">\n",
              "  <thead>\n",
              "    <tr style=\"text-align: right;\">\n",
              "      <th></th>\n",
              "      <th>TH1: Bà mẹ hút thuốc</th>\n",
              "      <th>TH2: Bà mẹ không hút thuốc</th>\n",
              "      <th>Chênh lệch (TH2-TH1)</th>\n",
              "    </tr>\n",
              "  </thead>\n",
              "  <tbody>\n",
              "    <tr>\n",
              "      <th>Skewness</th>\n",
              "      <td>-0.033700</td>\n",
              "      <td>-0.187363</td>\n",
              "      <td>-0.153664</td>\n",
              "    </tr>\n",
              "    <tr>\n",
              "      <th>Kurtosis</th>\n",
              "      <td>3.000408</td>\n",
              "      <td>4.052213</td>\n",
              "      <td>1.051805</td>\n",
              "    </tr>\n",
              "  </tbody>\n",
              "</table>\n",
              "</div>"
            ],
            "text/plain": [
              "          TH1: Bà mẹ hút thuốc  ...  Chênh lệch (TH2-TH1)\n",
              "Skewness             -0.033700  ...             -0.153664\n",
              "Kurtosis              3.000408  ...              1.051805\n",
              "\n",
              "[2 rows x 3 columns]"
            ]
          },
          "metadata": {},
          "execution_count": 7
        }
      ]
    },
    {
      "cell_type": "code",
      "metadata": {
        "colab": {
          "base_uri": "https://localhost:8080/",
          "height": 296
        },
        "id": "NTs3Ibyz7Veo",
        "outputId": "b99bd3a9-b26b-4f79-baec-de400f2abfca"
      },
      "source": [
        "import seaborn as sns\n",
        "import matplotlib.pyplot as plt\n",
        "sns.histplot(data = df_cohutthuoc,x = 'bwt',color = 'navy',kde = True, bins=12)"
      ],
      "execution_count": 8,
      "outputs": [
        {
          "output_type": "execute_result",
          "data": {
            "text/plain": [
              "<matplotlib.axes._subplots.AxesSubplot at 0x7fa4f7ae21d0>"
            ]
          },
          "metadata": {},
          "execution_count": 8
        },
        {
          "output_type": "display_data",
          "data": {
            "image/png": "[encoded data removed]",
            "text/plain": [
              "<Figure size 432x288 with 1 Axes>"
            ]
          },
          "metadata": {
            "needs_background": "light"
          }
        }
      ]
    },
    {
      "cell_type": "code",
      "metadata": {
        "colab": {
          "base_uri": "https://localhost:8080/",
          "height": 296
        },
        "id": "1oKuVaLA7eoQ",
        "outputId": "871eb724-569e-4050-ea22-186c4ae3bdf2"
      },
      "source": [
        "sns.histplot(data = df_khonghutthuoc,x = 'bwt',color = 'navy',kde = True, bins=12)"
      ],
      "execution_count": 9,
      "outputs": [
        {
          "output_type": "execute_result",
          "data": {
            "text/plain": [
              "<matplotlib.axes._subplots.AxesSubplot at 0x7fa4f4dd1e50>"
            ]
          },
          "metadata": {},
          "execution_count": 9
        },
        {
          "output_type": "display_data",
          "data": {
            "image/png": "[encoded data removed]",
            "text/plain": [
              "<Figure size 432x288 with 1 Axes>"
            ]
          },
          "metadata": {
            "needs_background": "light"
          }
        }
      ]
    },
    {
      "cell_type": "code",
      "metadata": {
        "colab": {
          "base_uri": "https://localhost:8080/",
          "height": 378
        },
        "id": "Qo_at9I17mIa",
        "outputId": "2072bc37-70ba-44a1-c820-706fab02d946"
      },
      "source": [
        "plt.figure(figsize=(6,6))\n",
        "sns.boxplot(y=df_cohutthuoc['bwt'])"
      ],
      "execution_count": 10,
      "outputs": [
        {
          "output_type": "execute_result",
          "data": {
            "text/plain": [
              "<matplotlib.axes._subplots.AxesSubplot at 0x7fa4f4d742d0>"
            ]
          },
          "metadata": {},
          "execution_count": 10
        },
        {
          "output_type": "display_data",
          "data": {
            "image/png": "[encoded data removed]",
            "text/plain": [
              "<Figure size 432x432 with 1 Axes>"
            ]
          },
          "metadata": {
            "needs_background": "light"
          }
        }
      ]
    },
    {
      "cell_type": "code",
      "metadata": {
        "colab": {
          "base_uri": "https://localhost:8080/",
          "height": 386
        },
        "id": "hJ7Lh19n7xCc",
        "outputId": "0bd806a6-98db-408b-c3c8-0d1621c9eb53"
      },
      "source": [
        "\n",
        "sns.displot(df, x=\"bwt\", col=\"smoke\", kde=True,bins=12)"
      ],
      "execution_count": 12,
      "outputs": [
        {
          "output_type": "execute_result",
          "data": {
            "text/plain": [
              "<seaborn.axisgrid.FacetGrid at 0x7fa4f4ce3b10>"
            ]
          },
          "metadata": {},
          "execution_count": 12
        },
        {
          "output_type": "display_data",
          "data": {
            "image/png": "[encoded data removed]",
            "text/plain": [
              "<Figure size 1080x360 with 3 Axes>"
            ]
          },
          "metadata": {
            "needs_background": "light"
          }
        }
      ]
    },
    {
      "cell_type": "code",
      "metadata": {
        "colab": {
          "base_uri": "https://localhost:8080/",
          "height": 297
        },
        "id": "0wYHpMJo72Aw",
        "outputId": "4c12a558-8b24-4bb7-f9c4-6d89ce80251e"
      },
      "source": [
        "sns.boxplot(x=\"smoke\", y=\"bwt\", data=df)"
      ],
      "execution_count": 13,
      "outputs": [
        {
          "output_type": "execute_result",
          "data": {
            "text/plain": [
              "<matplotlib.axes._subplots.AxesSubplot at 0x7fa4ec1f0d50>"
            ]
          },
          "metadata": {},
          "execution_count": 13
        },
        {
          "output_type": "display_data",
          "data": {
            "image/png": "[encoded data removed]",
            "text/plain": [
              "<Figure size 432x288 with 1 Axes>"
            ]
          },
          "metadata": {
            "needs_background": "light"
          }
        }
      ]
    },
    {
      "cell_type": "code",
      "metadata": {
        "colab": {
          "base_uri": "https://localhost:8080/",
          "height": 334
        },
        "id": "mcv_iMt178IJ",
        "outputId": "d985c068-d97d-4833-fbe6-ad5aa7bd7f49"
      },
      "source": [
        "from scipy.stats.stats import pearsonr\n",
        "from scipy import stats\n",
        "from statsmodels.graphics.gofplots import qqplot\n",
        "# QQ-plot phân bố của bà mẹ có hút thuốc\n",
        "qqplot_cohutthuoc = qqplot(df_cohutthuoc['bwt'],line='s')\n",
        "plt.show()"
      ],
      "execution_count": 14,
      "outputs": [
        {
          "output_type": "stream",
          "name": "stderr",
          "text": [
            "/usr/local/lib/python3.7/dist-packages/statsmodels/tools/_testing.py:19: FutureWarning: pandas.util.testing is deprecated. Use the functions in the public API at pandas.testing instead.\n",
            "  import pandas.util.testing as tm\n"
          ]
        },
        {
          "output_type": "display_data",
          "data": {
            "image/png": "[encoded data removed]",
            "text/plain": [
              "<Figure size 432x288 with 1 Axes>"
            ]
          },
          "metadata": {
            "needs_background": "light"
          }
        }
      ]
    }
  ]
}